{
  "nbformat": 4,
  "nbformat_minor": 0,
  "metadata": {
    "colab": {
      "provenance": [],
      "machine_shape": "hm",
      "gpuType": "A100",
      "authorship_tag": "ABX9TyOyD6ZxL9sS+5K9/UkDKjxY",
      "include_colab_link": true
    },
    "kernelspec": {
      "name": "python3",
      "display_name": "Python 3"
    },
    "language_info": {
      "name": "python"
    },
    "accelerator": "GPU"
  },
  "cells": [
    {
      "cell_type": "markdown",
      "metadata": {
        "id": "view-in-github",
        "colab_type": "text"
      },
      "source": [
        "<a href=\"https://colab.research.google.com/github/LordHandLee/HonCSC499_detect_falls_soccer/blob/main/ReconstructedModel.ipynb\" target=\"_parent\"><img src=\"https://colab.research.google.com/assets/colab-badge.svg\" alt=\"Open In Colab\"/></a>"
      ]
    },
    {
      "cell_type": "code",
      "execution_count": null,
      "metadata": {
        "id": "CBqmToHJd-Nh"
      },
      "outputs": [],
      "source": [
        "import numpy as np\n",
        "import tensorflow as tf\n",
        "from tensorflow import keras\n",
        "import glob\n",
        "\n",
        "import matplotlib.pyplot as plt\n",
        "import cv2\n",
        "from skimage import data,io\n",
        "import matplotlib.image as mpimg\n",
        "\n",
        "from tensorflow.keras.preprocessing.image import ImageDataGenerator\n",
        "from tensorflow.keras.callbacks import EarlyStopping\n",
        "from tensorflow.keras.models import load_model"
      ]
    },
    {
      "cell_type": "code",
      "source": [
        "base_model = keras.applications.efficientnet.EfficientNetB1(\n",
        "    include_top=False,\n",
        "    weights='imagenet',\n",
        "    input_shape=(224,224,3),\n",
        ")\n"
      ],
      "metadata": {
        "id": "DwPC7GSskMl2"
      },
      "execution_count": null,
      "outputs": []
    },
    {
      "cell_type": "code",
      "source": [
        "base_model.trainable = True"
      ],
      "metadata": {
        "id": "w2A-rLp7kpxv"
      },
      "execution_count": null,
      "outputs": []
    },
    {
      "cell_type": "code",
      "source": [
        "inputs = keras.Input(shape=(150,150,3))\n",
        "#x = base_model(inputs, training=False)\n",
        "\n",
        "x = tf.cast(inputs, tf.int32)\n",
        "\n",
        "x = keras.layers.Normalization()(x)\n",
        "\n",
        "x = keras.layers.RandomTranslation(height_factor=0.2, width_factor=0.2)(x)\n",
        "\n",
        "x = keras.layers.RandomFlip()(x)\n",
        "\n",
        "x = keras.layers.Resizing(height=224, width=224)(x)\n",
        "\n",
        "x = base_model(x, training=True)\n",
        "\n",
        "x = keras.layers.GlobalAveragePooling2D()(x)\n",
        "\n",
        "x = keras.layers.Dense(1)(x)\n",
        "\n",
        "#dropout?\n",
        "\n",
        "outputs = keras.layers.Activation('sigmoid')(x)\n",
        "\n",
        "model = keras.Model(inputs, outputs)\n",
        "\n",
        "\n",
        "\n",
        "\n",
        "#  random_flip (RandomFlip)    (None, 150, 150, 3)       0\n",
        "\n",
        "#  resizing (Resizing)         (None, 224, 224, 3)       0\n",
        "\n",
        "#  efficientnetb1 (Functional  (None, None, None, 1280   6575239\n",
        "#  )                           )\n",
        "\n",
        "#  global_average_pooling2d (  (None, 1280)              0\n",
        "#  GlobalAveragePooling2D)\n",
        "\n",
        "#  dense (Dense)               (None, 1)                 1281\n",
        "\n",
        "#  classification_head_1 (Ac\n",
        "\n"
      ],
      "metadata": {
        "id": "A9tDTgMnkxuz"
      },
      "execution_count": null,
      "outputs": []
    },
    {
      "cell_type": "code",
      "source": [
        "model.summary()"
      ],
      "metadata": {
        "colab": {
          "base_uri": "https://localhost:8080/"
        },
        "id": "KMaTYZnsXtfr",
        "outputId": "d39b7a93-a0bb-438f-abf6-9e2e2f483e58"
      },
      "execution_count": null,
      "outputs": [
        {
          "output_type": "stream",
          "name": "stdout",
          "text": [
            "Model: \"model_3\"\n",
            "_________________________________________________________________\n",
            " Layer (type)                Output Shape              Param #   \n",
            "=================================================================\n",
            " input_7 (InputLayer)        [(None, 150, 150, 3)]     0         \n",
            "                                                                 \n",
            " tf.cast_3 (TFOpLambda)      (None, 150, 150, 3)       0         \n",
            "                                                                 \n",
            " normalization_6 (Normaliza  (None, 150, 150, 3)       7         \n",
            " tion)                                                           \n",
            "                                                                 \n",
            " random_translation_3 (Rand  (None, 150, 150, 3)       0         \n",
            " omTranslation)                                                  \n",
            "                                                                 \n",
            " random_flip_3 (RandomFlip)  (None, 150, 150, 3)       0         \n",
            "                                                                 \n",
            " resizing_3 (Resizing)       (None, 224, 224, 3)       0         \n",
            "                                                                 \n",
            " efficientnetb1 (Functional  (None, 7, 7, 1280)        6575239   \n",
            " )                                                               \n",
            "                                                                 \n",
            " global_average_pooling2d_3  (None, 1280)              0         \n",
            "  (GlobalAveragePooling2D)                                       \n",
            "                                                                 \n",
            " dense_3 (Dense)             (None, 1)                 1281      \n",
            "                                                                 \n",
            " activation_3 (Activation)   (None, 1)                 0         \n",
            "                                                                 \n",
            "=================================================================\n",
            "Total params: 6576527 (25.09 MB)\n",
            "Trainable params: 6514465 (24.85 MB)\n",
            "Non-trainable params: 62062 (242.44 KB)\n",
            "_________________________________________________________________\n"
          ]
        }
      ]
    },
    {
      "cell_type": "code",
      "source": [
        "model.compile(optimizer=keras.optimizers.Adam(learning_rate=0.01),\n",
        "              loss=keras.losses.BinaryCrossentropy(from_logits=False),\n",
        "              metrics=[keras.metrics.BinaryAccuracy()])"
      ],
      "metadata": {
        "id": "7cjSG2O4YACk"
      },
      "execution_count": null,
      "outputs": []
    },
    {
      "cell_type": "code",
      "source": [
        "early_stop = EarlyStopping(monitor='val_loss', min_delta=0.00001, patience=30)"
      ],
      "metadata": {
        "id": "ponB3zlPYrV9"
      },
      "execution_count": null,
      "outputs": []
    },
    {
      "cell_type": "code",
      "source": [
        "from google.colab import drive"
      ],
      "metadata": {
        "id": "1iyhKOG0Y5o3"
      },
      "execution_count": null,
      "outputs": []
    },
    {
      "cell_type": "code",
      "source": [
        "drive.mount(\"/content/drive\", force_remount=True)"
      ],
      "metadata": {
        "colab": {
          "base_uri": "https://localhost:8080/"
        },
        "id": "fmZDg_zyZFF9",
        "outputId": "cdfdd2db-ca27-4ea9-aa0d-8e5212d68b84"
      },
      "execution_count": null,
      "outputs": [
        {
          "output_type": "stream",
          "name": "stdout",
          "text": [
            "Mounted at /content/drive\n"
          ]
        }
      ]
    },
    {
      "cell_type": "code",
      "source": [
        "data_dir = \"/content/drive/MyDrive/honor_thesis/image_depo/\""
      ],
      "metadata": {
        "id": "t0vm8LtEZHTQ"
      },
      "execution_count": null,
      "outputs": []
    },
    {
      "cell_type": "code",
      "source": [
        "datagen = ImageDataGenerator(rescale=1/255.0, validation_split=0.3)\n",
        "width = 150\n",
        "height = 150\n",
        "trainDatagen = datagen.flow_from_directory(directory=data_dir, target_size=(width, height),\n",
        "                                           class_mode='binary',\n",
        "                                           batch_size=16,\n",
        "                                           subset='training')\n",
        "valDatagen = datagen.flow_from_directory(directory=data_dir, target_size=(width, height),\n",
        "                                           class_mode='binary',\n",
        "                                           batch_size=16,\n",
        "                                           subset='validation')"
      ],
      "metadata": {
        "colab": {
          "base_uri": "https://localhost:8080/"
        },
        "id": "X3dnt-6EZSv2",
        "outputId": "f20459ec-edf9-42fc-891b-8160d8a88c1f"
      },
      "execution_count": null,
      "outputs": [
        {
          "output_type": "stream",
          "name": "stdout",
          "text": [
            "Found 611 images belonging to 2 classes.\n",
            "Found 260 images belonging to 2 classes.\n"
          ]
        }
      ]
    },
    {
      "cell_type": "code",
      "source": [
        "ls \"/content/drive/MyDrive/honor_thesis/image_depo/\""
      ],
      "metadata": {
        "colab": {
          "base_uri": "https://localhost:8080/"
        },
        "id": "fwBorLFBaAZo",
        "outputId": "3a96070b-d485-4f63-9565-fe2b0d4952d8"
      },
      "execution_count": null,
      "outputs": [
        {
          "output_type": "stream",
          "name": "stdout",
          "text": [
            "\u001b[0m\u001b[01;34mfallen_images\u001b[0m/  model_autokeras.h5  model_autokeras.keras  \u001b[01;34mstanding_images\u001b[0m/\n"
          ]
        }
      ]
    },
    {
      "cell_type": "code",
      "source": [
        "history = model.fit(trainDatagen, steps_per_epoch = len(trainDatagen),\n",
        "                    epochs=500, validation_data = valDatagen,\n",
        "                    validation_steps = len(valDatagen),\n",
        "                    callbacks=[early_stop])"
      ],
      "metadata": {
        "colab": {
          "base_uri": "https://localhost:8080/",
          "height": 811
        },
        "id": "dGG9jiTeaPO_",
        "outputId": "f0a63482-3e20-4ad4-c523-e6b72dcaa35d"
      },
      "execution_count": null,
      "outputs": [
        {
          "output_type": "stream",
          "name": "stdout",
          "text": [
            "Epoch 1/500\n"
          ]
        },
        {
          "output_type": "error",
          "ename": "ValueError",
          "evalue": "ignored",
          "traceback": [
            "\u001b[0;31m---------------------------------------------------------------------------\u001b[0m",
            "\u001b[0;31mValueError\u001b[0m                                Traceback (most recent call last)",
            "\u001b[0;32m<ipython-input-28-9ab9ed6c565a>\u001b[0m in \u001b[0;36m<cell line: 1>\u001b[0;34m()\u001b[0m\n\u001b[0;32m----> 1\u001b[0;31m history = model.fit(trainDatagen, steps_per_epoch = len(trainDatagen),\n\u001b[0m\u001b[1;32m      2\u001b[0m                     \u001b[0mepochs\u001b[0m\u001b[0;34m=\u001b[0m\u001b[0;36m500\u001b[0m\u001b[0;34m,\u001b[0m \u001b[0mvalidation_data\u001b[0m \u001b[0;34m=\u001b[0m \u001b[0mvalDatagen\u001b[0m\u001b[0;34m,\u001b[0m\u001b[0;34m\u001b[0m\u001b[0;34m\u001b[0m\u001b[0m\n\u001b[1;32m      3\u001b[0m                     \u001b[0mvalidation_steps\u001b[0m \u001b[0;34m=\u001b[0m \u001b[0mlen\u001b[0m\u001b[0;34m(\u001b[0m\u001b[0mvalDatagen\u001b[0m\u001b[0;34m)\u001b[0m\u001b[0;34m,\u001b[0m\u001b[0;34m\u001b[0m\u001b[0;34m\u001b[0m\u001b[0m\n\u001b[1;32m      4\u001b[0m                     callbacks=[early_stop])\n",
            "\u001b[0;32m/usr/local/lib/python3.10/dist-packages/keras/src/utils/traceback_utils.py\u001b[0m in \u001b[0;36merror_handler\u001b[0;34m(*args, **kwargs)\u001b[0m\n\u001b[1;32m     68\u001b[0m             \u001b[0;31m# To get the full stack trace, call:\u001b[0m\u001b[0;34m\u001b[0m\u001b[0;34m\u001b[0m\u001b[0m\n\u001b[1;32m     69\u001b[0m             \u001b[0;31m# `tf.debugging.disable_traceback_filtering()`\u001b[0m\u001b[0;34m\u001b[0m\u001b[0;34m\u001b[0m\u001b[0m\n\u001b[0;32m---> 70\u001b[0;31m             \u001b[0;32mraise\u001b[0m \u001b[0me\u001b[0m\u001b[0;34m.\u001b[0m\u001b[0mwith_traceback\u001b[0m\u001b[0;34m(\u001b[0m\u001b[0mfiltered_tb\u001b[0m\u001b[0;34m)\u001b[0m \u001b[0;32mfrom\u001b[0m \u001b[0;32mNone\u001b[0m\u001b[0;34m\u001b[0m\u001b[0;34m\u001b[0m\u001b[0m\n\u001b[0m\u001b[1;32m     71\u001b[0m         \u001b[0;32mfinally\u001b[0m\u001b[0;34m:\u001b[0m\u001b[0;34m\u001b[0m\u001b[0;34m\u001b[0m\u001b[0m\n\u001b[1;32m     72\u001b[0m             \u001b[0;32mdel\u001b[0m \u001b[0mfiltered_tb\u001b[0m\u001b[0;34m\u001b[0m\u001b[0;34m\u001b[0m\u001b[0m\n",
            "\u001b[0;32m/usr/local/lib/python3.10/dist-packages/keras/src/engine/training.py\u001b[0m in \u001b[0;36mtf__train_function\u001b[0;34m(iterator)\u001b[0m\n\u001b[1;32m     13\u001b[0m                 \u001b[0;32mtry\u001b[0m\u001b[0;34m:\u001b[0m\u001b[0;34m\u001b[0m\u001b[0;34m\u001b[0m\u001b[0m\n\u001b[1;32m     14\u001b[0m                     \u001b[0mdo_return\u001b[0m \u001b[0;34m=\u001b[0m \u001b[0;32mTrue\u001b[0m\u001b[0;34m\u001b[0m\u001b[0;34m\u001b[0m\u001b[0m\n\u001b[0;32m---> 15\u001b[0;31m                     \u001b[0mretval_\u001b[0m \u001b[0;34m=\u001b[0m \u001b[0mag__\u001b[0m\u001b[0;34m.\u001b[0m\u001b[0mconverted_call\u001b[0m\u001b[0;34m(\u001b[0m\u001b[0mag__\u001b[0m\u001b[0;34m.\u001b[0m\u001b[0mld\u001b[0m\u001b[0;34m(\u001b[0m\u001b[0mstep_function\u001b[0m\u001b[0;34m)\u001b[0m\u001b[0;34m,\u001b[0m \u001b[0;34m(\u001b[0m\u001b[0mag__\u001b[0m\u001b[0;34m.\u001b[0m\u001b[0mld\u001b[0m\u001b[0;34m(\u001b[0m\u001b[0mself\u001b[0m\u001b[0;34m)\u001b[0m\u001b[0;34m,\u001b[0m \u001b[0mag__\u001b[0m\u001b[0;34m.\u001b[0m\u001b[0mld\u001b[0m\u001b[0;34m(\u001b[0m\u001b[0miterator\u001b[0m\u001b[0;34m)\u001b[0m\u001b[0;34m)\u001b[0m\u001b[0;34m,\u001b[0m \u001b[0;32mNone\u001b[0m\u001b[0;34m,\u001b[0m \u001b[0mfscope\u001b[0m\u001b[0;34m)\u001b[0m\u001b[0;34m\u001b[0m\u001b[0;34m\u001b[0m\u001b[0m\n\u001b[0m\u001b[1;32m     16\u001b[0m                 \u001b[0;32mexcept\u001b[0m\u001b[0;34m:\u001b[0m\u001b[0;34m\u001b[0m\u001b[0;34m\u001b[0m\u001b[0m\n\u001b[1;32m     17\u001b[0m                     \u001b[0mdo_return\u001b[0m \u001b[0;34m=\u001b[0m \u001b[0;32mFalse\u001b[0m\u001b[0;34m\u001b[0m\u001b[0;34m\u001b[0m\u001b[0m\n",
            "\u001b[0;31mValueError\u001b[0m: in user code:\n\n    File \"/usr/local/lib/python3.10/dist-packages/keras/src/engine/training.py\", line 1338, in train_function  *\n        return step_function(self, iterator)\n    File \"/usr/local/lib/python3.10/dist-packages/keras/src/engine/training.py\", line 1322, in step_function  **\n        outputs = model.distribute_strategy.run(run_step, args=(data,))\n    File \"/usr/local/lib/python3.10/dist-packages/keras/src/engine/training.py\", line 1303, in run_step  **\n        outputs = model.train_step(data)\n    File \"/usr/local/lib/python3.10/dist-packages/keras/src/engine/training.py\", line 1080, in train_step\n        y_pred = self(x, training=True)\n    File \"/usr/local/lib/python3.10/dist-packages/keras/src/utils/traceback_utils.py\", line 70, in error_handler\n        raise e.with_traceback(filtered_tb) from None\n    File \"/usr/local/lib/python3.10/dist-packages/keras/src/engine/input_spec.py\", line 298, in assert_input_compatibility\n        raise ValueError(\n\n    ValueError: Exception encountered when calling layer 'model' (type Functional).\n    \n    Input 0 of layer \"efficientnetb1\" is incompatible with the layer: expected shape=(None, 150, 150, 3), found shape=(None, 224, 224, 3)\n    \n    Call arguments received by layer 'model' (type Functional):\n      • inputs=tf.Tensor(shape=(None, None, None, None), dtype=float32)\n      • training=True\n      • mask=None\n"
          ]
        }
      ]
    },
    {
      "cell_type": "code",
      "source": [
        "history = model.fit(trainDatagen, steps_per_epoch = len(trainDatagen),\n",
        "                    epochs=500, validation_data = valDatagen,\n",
        "                    validation_steps = len(valDatagen),\n",
        "                    callbacks=[early_stop])"
      ],
      "metadata": {
        "colab": {
          "base_uri": "https://localhost:8080/"
        },
        "id": "n11oSu42bmTu",
        "outputId": "b6d772c2-2b7f-4337-8845-faa0cdc58820"
      },
      "execution_count": null,
      "outputs": [
        {
          "output_type": "stream",
          "name": "stdout",
          "text": [
            "Epoch 1/500\n",
            "39/39 [==============================] - 63s 152ms/step - loss: 0.9531 - binary_accuracy: 0.5123 - val_loss: 0.7326 - val_binary_accuracy: 0.5000\n",
            "Epoch 2/500\n",
            "39/39 [==============================] - 4s 89ms/step - loss: 0.7088 - binary_accuracy: 0.5548 - val_loss: 0.7354 - val_binary_accuracy: 0.4962\n",
            "Epoch 3/500\n",
            "39/39 [==============================] - 4s 90ms/step - loss: 0.7076 - binary_accuracy: 0.5417 - val_loss: 0.7012 - val_binary_accuracy: 0.5038\n",
            "Epoch 4/500\n",
            "39/39 [==============================] - 3s 87ms/step - loss: 0.7132 - binary_accuracy: 0.5106 - val_loss: 0.6888 - val_binary_accuracy: 0.5462\n",
            "Epoch 5/500\n",
            "39/39 [==============================] - 3s 88ms/step - loss: 0.6692 - binary_accuracy: 0.5679 - val_loss: 0.7334 - val_binary_accuracy: 0.5538\n",
            "Epoch 6/500\n",
            "39/39 [==============================] - 3s 89ms/step - loss: 0.6771 - binary_accuracy: 0.5646 - val_loss: 0.6916 - val_binary_accuracy: 0.5538\n",
            "Epoch 7/500\n",
            "39/39 [==============================] - 4s 89ms/step - loss: 0.6924 - binary_accuracy: 0.5777 - val_loss: 0.6878 - val_binary_accuracy: 0.5846\n",
            "Epoch 8/500\n",
            "39/39 [==============================] - 3s 89ms/step - loss: 0.6867 - binary_accuracy: 0.5581 - val_loss: 0.7145 - val_binary_accuracy: 0.5731\n",
            "Epoch 9/500\n",
            "39/39 [==============================] - 4s 90ms/step - loss: 0.6551 - binary_accuracy: 0.5974 - val_loss: 0.7229 - val_binary_accuracy: 0.5423\n",
            "Epoch 10/500\n",
            "39/39 [==============================] - 4s 90ms/step - loss: 0.6707 - binary_accuracy: 0.5925 - val_loss: 0.6896 - val_binary_accuracy: 0.5000\n",
            "Epoch 11/500\n",
            "39/39 [==============================] - 3s 88ms/step - loss: 0.6669 - binary_accuracy: 0.5679 - val_loss: 0.6617 - val_binary_accuracy: 0.6500\n",
            "Epoch 12/500\n",
            "39/39 [==============================] - 4s 89ms/step - loss: 0.6398 - binary_accuracy: 0.6252 - val_loss: 0.6469 - val_binary_accuracy: 0.6500\n",
            "Epoch 13/500\n",
            "39/39 [==============================] - 4s 92ms/step - loss: 0.6230 - binary_accuracy: 0.6514 - val_loss: 0.6812 - val_binary_accuracy: 0.6115\n",
            "Epoch 14/500\n",
            "39/39 [==============================] - 4s 90ms/step - loss: 0.6091 - binary_accuracy: 0.6399 - val_loss: 0.6923 - val_binary_accuracy: 0.6077\n",
            "Epoch 15/500\n",
            "39/39 [==============================] - 3s 89ms/step - loss: 0.6298 - binary_accuracy: 0.6432 - val_loss: 0.6523 - val_binary_accuracy: 0.6346\n",
            "Epoch 16/500\n",
            "39/39 [==============================] - 4s 90ms/step - loss: 0.5822 - binary_accuracy: 0.6939 - val_loss: 0.6507 - val_binary_accuracy: 0.5923\n",
            "Epoch 17/500\n",
            "39/39 [==============================] - 3s 89ms/step - loss: 0.5967 - binary_accuracy: 0.6743 - val_loss: 0.6909 - val_binary_accuracy: 0.6077\n",
            "Epoch 18/500\n",
            "39/39 [==============================] - 4s 89ms/step - loss: 0.6264 - binary_accuracy: 0.6727 - val_loss: 0.6152 - val_binary_accuracy: 0.6654\n",
            "Epoch 19/500\n",
            "39/39 [==============================] - 3s 89ms/step - loss: 0.5730 - binary_accuracy: 0.6825 - val_loss: 0.6324 - val_binary_accuracy: 0.6692\n",
            "Epoch 20/500\n",
            "39/39 [==============================] - 3s 88ms/step - loss: 0.5700 - binary_accuracy: 0.6989 - val_loss: 0.6568 - val_binary_accuracy: 0.6923\n",
            "Epoch 21/500\n",
            "39/39 [==============================] - 4s 90ms/step - loss: 0.5760 - binary_accuracy: 0.6710 - val_loss: 0.6389 - val_binary_accuracy: 0.6077\n",
            "Epoch 22/500\n",
            "39/39 [==============================] - 3s 88ms/step - loss: 0.5569 - binary_accuracy: 0.6907 - val_loss: 0.6037 - val_binary_accuracy: 0.6577\n",
            "Epoch 23/500\n",
            "39/39 [==============================] - 3s 87ms/step - loss: 0.5382 - binary_accuracy: 0.7185 - val_loss: 0.6692 - val_binary_accuracy: 0.6423\n",
            "Epoch 24/500\n",
            "39/39 [==============================] - 4s 91ms/step - loss: 0.5750 - binary_accuracy: 0.6776 - val_loss: 0.6489 - val_binary_accuracy: 0.6308\n",
            "Epoch 25/500\n",
            "39/39 [==============================] - 3s 88ms/step - loss: 0.5696 - binary_accuracy: 0.6809 - val_loss: 0.6203 - val_binary_accuracy: 0.6308\n",
            "Epoch 26/500\n",
            "39/39 [==============================] - 3s 87ms/step - loss: 0.5756 - binary_accuracy: 0.6956 - val_loss: 0.6094 - val_binary_accuracy: 0.6385\n",
            "Epoch 27/500\n",
            "39/39 [==============================] - 3s 88ms/step - loss: 0.5609 - binary_accuracy: 0.6907 - val_loss: 0.6809 - val_binary_accuracy: 0.6577\n",
            "Epoch 28/500\n",
            "39/39 [==============================] - 3s 89ms/step - loss: 0.5637 - binary_accuracy: 0.6972 - val_loss: 0.5866 - val_binary_accuracy: 0.6808\n",
            "Epoch 29/500\n",
            "39/39 [==============================] - 4s 91ms/step - loss: 0.5415 - binary_accuracy: 0.7119 - val_loss: 0.7053 - val_binary_accuracy: 0.6154\n",
            "Epoch 30/500\n",
            "39/39 [==============================] - 3s 89ms/step - loss: 0.5410 - binary_accuracy: 0.6874 - val_loss: 0.6401 - val_binary_accuracy: 0.6615\n",
            "Epoch 31/500\n",
            "39/39 [==============================] - 4s 91ms/step - loss: 0.5522 - binary_accuracy: 0.6825 - val_loss: 0.6426 - val_binary_accuracy: 0.6731\n",
            "Epoch 32/500\n",
            "39/39 [==============================] - 4s 90ms/step - loss: 0.5534 - binary_accuracy: 0.7185 - val_loss: 0.6259 - val_binary_accuracy: 0.6885\n",
            "Epoch 33/500\n",
            "39/39 [==============================] - 4s 92ms/step - loss: 0.5425 - binary_accuracy: 0.7119 - val_loss: 0.6339 - val_binary_accuracy: 0.6731\n",
            "Epoch 34/500\n",
            "39/39 [==============================] - 4s 91ms/step - loss: 0.5406 - binary_accuracy: 0.7250 - val_loss: 0.6448 - val_binary_accuracy: 0.6346\n",
            "Epoch 35/500\n",
            "39/39 [==============================] - 4s 92ms/step - loss: 0.5449 - binary_accuracy: 0.7005 - val_loss: 0.6105 - val_binary_accuracy: 0.6692\n",
            "Epoch 36/500\n",
            "39/39 [==============================] - 4s 89ms/step - loss: 0.5334 - binary_accuracy: 0.6874 - val_loss: 0.6225 - val_binary_accuracy: 0.6769\n",
            "Epoch 37/500\n",
            "39/39 [==============================] - 4s 90ms/step - loss: 0.5508 - binary_accuracy: 0.6874 - val_loss: 0.6990 - val_binary_accuracy: 0.6346\n",
            "Epoch 38/500\n",
            "39/39 [==============================] - 4s 89ms/step - loss: 0.5156 - binary_accuracy: 0.7218 - val_loss: 0.6260 - val_binary_accuracy: 0.6077\n",
            "Epoch 39/500\n",
            "39/39 [==============================] - 4s 89ms/step - loss: 0.5231 - binary_accuracy: 0.7169 - val_loss: 0.6417 - val_binary_accuracy: 0.7077\n",
            "Epoch 40/500\n",
            "39/39 [==============================] - 4s 90ms/step - loss: 0.5205 - binary_accuracy: 0.7201 - val_loss: 0.5982 - val_binary_accuracy: 0.6846\n",
            "Epoch 41/500\n",
            "39/39 [==============================] - 3s 89ms/step - loss: 0.5073 - binary_accuracy: 0.7300 - val_loss: 0.6998 - val_binary_accuracy: 0.6462\n",
            "Epoch 42/500\n",
            "39/39 [==============================] - 3s 89ms/step - loss: 0.4983 - binary_accuracy: 0.7283 - val_loss: 0.6683 - val_binary_accuracy: 0.6962\n",
            "Epoch 43/500\n",
            "39/39 [==============================] - 4s 90ms/step - loss: 0.5338 - binary_accuracy: 0.7218 - val_loss: 0.6059 - val_binary_accuracy: 0.6885\n",
            "Epoch 44/500\n",
            "39/39 [==============================] - 4s 89ms/step - loss: 0.5034 - binary_accuracy: 0.7414 - val_loss: 0.6628 - val_binary_accuracy: 0.6654\n",
            "Epoch 45/500\n",
            "39/39 [==============================] - 4s 90ms/step - loss: 0.5034 - binary_accuracy: 0.7300 - val_loss: 0.6215 - val_binary_accuracy: 0.6846\n",
            "Epoch 46/500\n",
            "39/39 [==============================] - 4s 89ms/step - loss: 0.5159 - binary_accuracy: 0.7087 - val_loss: 0.6571 - val_binary_accuracy: 0.6615\n",
            "Epoch 47/500\n",
            "39/39 [==============================] - 3s 88ms/step - loss: 0.5136 - binary_accuracy: 0.7070 - val_loss: 0.6314 - val_binary_accuracy: 0.6577\n",
            "Epoch 48/500\n",
            "39/39 [==============================] - 4s 90ms/step - loss: 0.5229 - binary_accuracy: 0.7250 - val_loss: 0.6014 - val_binary_accuracy: 0.7038\n",
            "Epoch 49/500\n",
            "39/39 [==============================] - 4s 91ms/step - loss: 0.5082 - binary_accuracy: 0.7332 - val_loss: 0.6383 - val_binary_accuracy: 0.6500\n",
            "Epoch 50/500\n",
            "39/39 [==============================] - 4s 93ms/step - loss: 0.4961 - binary_accuracy: 0.7430 - val_loss: 0.6397 - val_binary_accuracy: 0.6269\n",
            "Epoch 51/500\n",
            "39/39 [==============================] - 3s 88ms/step - loss: 0.5108 - binary_accuracy: 0.7185 - val_loss: 0.6574 - val_binary_accuracy: 0.6538\n",
            "Epoch 52/500\n",
            "39/39 [==============================] - 4s 90ms/step - loss: 0.4941 - binary_accuracy: 0.7332 - val_loss: 0.6351 - val_binary_accuracy: 0.6308\n",
            "Epoch 53/500\n",
            "39/39 [==============================] - 4s 91ms/step - loss: 0.4770 - binary_accuracy: 0.7267 - val_loss: 0.6667 - val_binary_accuracy: 0.6615\n",
            "Epoch 54/500\n",
            "39/39 [==============================] - 4s 89ms/step - loss: 0.5319 - binary_accuracy: 0.7300 - val_loss: 0.6589 - val_binary_accuracy: 0.6385\n",
            "Epoch 55/500\n",
            "39/39 [==============================] - 3s 87ms/step - loss: 0.5257 - binary_accuracy: 0.7070 - val_loss: 0.6702 - val_binary_accuracy: 0.6423\n",
            "Epoch 56/500\n",
            "39/39 [==============================] - 4s 89ms/step - loss: 0.5176 - binary_accuracy: 0.7267 - val_loss: 0.6193 - val_binary_accuracy: 0.6385\n",
            "Epoch 57/500\n",
            "39/39 [==============================] - 4s 89ms/step - loss: 0.5234 - binary_accuracy: 0.7332 - val_loss: 0.6475 - val_binary_accuracy: 0.6615\n",
            "Epoch 58/500\n",
            "39/39 [==============================] - 3s 88ms/step - loss: 0.4968 - binary_accuracy: 0.7480 - val_loss: 0.6012 - val_binary_accuracy: 0.6615\n"
          ]
        }
      ]
    },
    {
      "cell_type": "code",
      "source": [],
      "metadata": {
        "id": "XsQ999uQckXA"
      },
      "execution_count": null,
      "outputs": []
    }
  ]
}