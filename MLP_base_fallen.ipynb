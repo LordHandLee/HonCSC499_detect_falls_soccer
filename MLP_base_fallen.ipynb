{
  "nbformat": 4,
  "nbformat_minor": 0,
  "metadata": {
    "colab": {
      "provenance": [],
      "machine_shape": "hm",
      "gpuType": "T4",
      "authorship_tag": "ABX9TyPwNOtdtSCtupTl1lRZRE1q",
      "include_colab_link": true
    },
    "kernelspec": {
      "name": "python3",
      "display_name": "Python 3"
    },
    "language_info": {
      "name": "python"
    },
    "accelerator": "GPU"
  },
  "cells": [
    {
      "cell_type": "markdown",
      "metadata": {
        "id": "view-in-github",
        "colab_type": "text"
      },
      "source": [
        "<a href=\"https://colab.research.google.com/github/LordHandLee/HonCSC499_detect_falls_soccer/blob/main/MLP_base_fallen.ipynb\" target=\"_parent\"><img src=\"https://colab.research.google.com/assets/colab-badge.svg\" alt=\"Open In Colab\"/></a>"
      ]
    },
    {
      "cell_type": "code",
      "execution_count": 2,
      "metadata": {
        "id": "NXgrRUhZe-pR"
      },
      "outputs": [],
      "source": [
        "from google.colab import drive\n",
        "import numpy as np\n",
        "import tensorflow as tf\n",
        "from tensorflow import keras\n",
        "import glob\n",
        "\n",
        "import matplotlib.pyplot as plt\n",
        "import cv2\n",
        "from skimage import data,io\n",
        "import matplotlib.image as mpimg\n",
        "\n",
        "from tensorflow.keras.models import Sequential\n",
        "from tensorflow.keras.layers import Dense\n",
        "from tensorflow.keras.layers import Reshape\n",
        "from tensorflow.keras.preprocessing.image import ImageDataGenerator\n",
        "from tensorflow.keras.callbacks import EarlyStopping\n",
        "from tensorflow.keras.models import load_model\n",
        "from tensorflow.keras.layers.experimental import preprocessing\n",
        "#from autokeras.utils import data_utils\n",
        "\n",
        "from sklearn.model_selection import train_test_split\n",
        "import pathlib"
      ]
    },
    {
      "cell_type": "code",
      "source": [
        "drive.mount(\"/content/drive\", force_remount=True)"
      ],
      "metadata": {
        "colab": {
          "base_uri": "https://localhost:8080/"
        },
        "id": "qA52dtCNspd6",
        "outputId": "52eb11df-caf6-46a5-8254-de990ffd5baa"
      },
      "execution_count": 3,
      "outputs": [
        {
          "output_type": "stream",
          "name": "stdout",
          "text": [
            "Mounted at /content/drive\n"
          ]
        }
      ]
    },
    {
      "cell_type": "code",
      "source": [
        "\n",
        "data_dir = \"/content/drive/MyDrive/honor_thesis/image_depo/\"\n",
        "# data_dir = pathlib.Path(data_dir).with_suffix('')\n",
        "# for i in data_dir.glob(\"*\"):\n",
        "#   print(i)\n",
        "datagen = ImageDataGenerator(rescale=1/255.0, validation_split=0.3)\n",
        "width = 150\n",
        "height = 150\n",
        "trainDatagen = datagen.flow_from_directory(directory=data_dir, target_size=(width, height),\n",
        "                                           class_mode='binary',\n",
        "                                           batch_size=16,\n",
        "                                           subset='training')\n",
        "valDatagen = datagen.flow_from_directory(directory=data_dir, target_size=(width, height),\n",
        "                                           class_mode='binary',\n",
        "                                           batch_size=16,\n",
        "                                           subset='validation')\n",
        "feature_vector_length = 150*150*3\n",
        "input_shape = (feature_vector_length,)"
      ],
      "metadata": {
        "colab": {
          "base_uri": "https://localhost:8080/"
        },
        "id": "azS_LX69hlT6",
        "outputId": "3a7b68f7-32f7-4b55-fa87-8a186e1cc768"
      },
      "execution_count": 4,
      "outputs": [
        {
          "output_type": "stream",
          "name": "stdout",
          "text": [
            "Found 611 images belonging to 2 classes.\n",
            "Found 260 images belonging to 2 classes.\n"
          ]
        }
      ]
    },
    {
      "cell_type": "code",
      "source": [
        "early_stop = EarlyStopping(monitor='val_loss', min_delta=0.00001, patience=30)"
      ],
      "metadata": {
        "id": "V8crZqIfsvv2"
      },
      "execution_count": 5,
      "outputs": []
    },
    {
      "cell_type": "code",
      "source": [
        "\n",
        "# Create the model\n",
        "model = Sequential()\n",
        "model.add(Reshape((67500,), input_shape=(150,150,3)))\n",
        "model.add(Dense(350, input_shape=input_shape, activation='relu'))\n",
        "model.add(Dense(50, activation='relu'))\n",
        "model.add(Dense(1, activation='sigmoid'))\n",
        "\n",
        "# Configure the model and start training\n",
        "model.compile(loss=keras.losses.BinaryCrossentropy(from_logits=False), optimizer=keras.optimizers.Adam(learning_rate=0.01), metrics=[keras.metrics.BinaryAccuracy()])\n",
        "\n",
        "history = model.fit(trainDatagen, steps_per_epoch = len(trainDatagen),\n",
        "                    epochs=500, validation_data = valDatagen,\n",
        "                    validation_steps = len(valDatagen),\n",
        "                    callbacks=[early_stop])"
      ],
      "metadata": {
        "colab": {
          "base_uri": "https://localhost:8080/"
        },
        "id": "05IPSj7jfBhe",
        "outputId": "2e5f1f2b-922d-4d85-bee9-e5dac80a64c0"
      },
      "execution_count": 6,
      "outputs": [
        {
          "output_type": "stream",
          "name": "stdout",
          "text": [
            "Epoch 1/500\n",
            "39/39 [==============================] - 303s 8s/step - loss: 40.7229 - binary_accuracy: 0.5205 - val_loss: 8.8178 - val_binary_accuracy: 0.5000\n",
            "Epoch 2/500\n",
            "39/39 [==============================] - 3s 70ms/step - loss: 4.8339 - binary_accuracy: 0.5483 - val_loss: 0.8313 - val_binary_accuracy: 0.5885\n",
            "Epoch 3/500\n",
            "39/39 [==============================] - 3s 73ms/step - loss: 0.9216 - binary_accuracy: 0.5843 - val_loss: 0.7245 - val_binary_accuracy: 0.5846\n",
            "Epoch 4/500\n",
            "39/39 [==============================] - 3s 68ms/step - loss: 0.5913 - binary_accuracy: 0.6612 - val_loss: 0.7357 - val_binary_accuracy: 0.5923\n",
            "Epoch 5/500\n",
            "39/39 [==============================] - 3s 67ms/step - loss: 0.6427 - binary_accuracy: 0.6465 - val_loss: 0.6933 - val_binary_accuracy: 0.6038\n",
            "Epoch 6/500\n",
            "39/39 [==============================] - 3s 68ms/step - loss: 0.6045 - binary_accuracy: 0.6825 - val_loss: 0.7901 - val_binary_accuracy: 0.4885\n",
            "Epoch 7/500\n",
            "39/39 [==============================] - 3s 71ms/step - loss: 0.6016 - binary_accuracy: 0.6678 - val_loss: 0.7131 - val_binary_accuracy: 0.6000\n",
            "Epoch 8/500\n",
            "39/39 [==============================] - 3s 70ms/step - loss: 0.6252 - binary_accuracy: 0.6219 - val_loss: 0.7143 - val_binary_accuracy: 0.5500\n",
            "Epoch 9/500\n",
            "39/39 [==============================] - 3s 68ms/step - loss: 0.7513 - binary_accuracy: 0.5957 - val_loss: 1.2664 - val_binary_accuracy: 0.4962\n",
            "Epoch 10/500\n",
            "39/39 [==============================] - 3s 68ms/step - loss: 0.7101 - binary_accuracy: 0.6334 - val_loss: 0.6889 - val_binary_accuracy: 0.6192\n",
            "Epoch 11/500\n",
            "39/39 [==============================] - 3s 71ms/step - loss: 0.7985 - binary_accuracy: 0.5957 - val_loss: 0.7004 - val_binary_accuracy: 0.4962\n",
            "Epoch 12/500\n",
            "39/39 [==============================] - 3s 72ms/step - loss: 0.6709 - binary_accuracy: 0.5925 - val_loss: 0.6710 - val_binary_accuracy: 0.6192\n",
            "Epoch 13/500\n",
            "39/39 [==============================] - 3s 68ms/step - loss: 0.6103 - binary_accuracy: 0.6399 - val_loss: 0.6448 - val_binary_accuracy: 0.6462\n",
            "Epoch 14/500\n",
            "39/39 [==============================] - 3s 70ms/step - loss: 0.5871 - binary_accuracy: 0.7021 - val_loss: 0.6600 - val_binary_accuracy: 0.6654\n",
            "Epoch 15/500\n",
            "39/39 [==============================] - 3s 68ms/step - loss: 0.6115 - binary_accuracy: 0.6661 - val_loss: 0.6763 - val_binary_accuracy: 0.6000\n",
            "Epoch 16/500\n",
            "39/39 [==============================] - 3s 72ms/step - loss: 0.6364 - binary_accuracy: 0.6710 - val_loss: 0.6894 - val_binary_accuracy: 0.5923\n",
            "Epoch 17/500\n",
            "39/39 [==============================] - 3s 68ms/step - loss: 0.6261 - binary_accuracy: 0.6694 - val_loss: 0.6773 - val_binary_accuracy: 0.4885\n",
            "Epoch 18/500\n",
            "39/39 [==============================] - 3s 67ms/step - loss: 0.5655 - binary_accuracy: 0.7300 - val_loss: 0.6519 - val_binary_accuracy: 0.6692\n",
            "Epoch 19/500\n",
            "39/39 [==============================] - 3s 69ms/step - loss: 0.5622 - binary_accuracy: 0.7250 - val_loss: 0.6511 - val_binary_accuracy: 0.6538\n",
            "Epoch 20/500\n",
            "39/39 [==============================] - 3s 70ms/step - loss: 0.5934 - binary_accuracy: 0.6645 - val_loss: 0.6481 - val_binary_accuracy: 0.6423\n",
            "Epoch 21/500\n",
            "39/39 [==============================] - 3s 71ms/step - loss: 0.5286 - binary_accuracy: 0.7365 - val_loss: 0.6782 - val_binary_accuracy: 0.6346\n",
            "Epoch 22/500\n",
            "39/39 [==============================] - 3s 68ms/step - loss: 0.5498 - binary_accuracy: 0.7381 - val_loss: 0.6860 - val_binary_accuracy: 0.5846\n",
            "Epoch 23/500\n",
            "39/39 [==============================] - 3s 69ms/step - loss: 0.5863 - binary_accuracy: 0.6792 - val_loss: 0.6612 - val_binary_accuracy: 0.5923\n",
            "Epoch 24/500\n",
            "39/39 [==============================] - 3s 70ms/step - loss: 0.5209 - binary_accuracy: 0.7627 - val_loss: 0.6910 - val_binary_accuracy: 0.5885\n",
            "Epoch 25/500\n",
            "39/39 [==============================] - 3s 72ms/step - loss: 0.5162 - binary_accuracy: 0.7447 - val_loss: 0.7177 - val_binary_accuracy: 0.5923\n",
            "Epoch 26/500\n",
            "39/39 [==============================] - 3s 70ms/step - loss: 0.4828 - binary_accuracy: 0.7463 - val_loss: 0.9044 - val_binary_accuracy: 0.5231\n",
            "Epoch 27/500\n",
            "39/39 [==============================] - 3s 69ms/step - loss: 0.5226 - binary_accuracy: 0.7381 - val_loss: 0.7142 - val_binary_accuracy: 0.5962\n",
            "Epoch 28/500\n",
            "39/39 [==============================] - 3s 71ms/step - loss: 0.4509 - binary_accuracy: 0.7823 - val_loss: 0.9724 - val_binary_accuracy: 0.5269\n",
            "Epoch 29/500\n",
            "39/39 [==============================] - 3s 72ms/step - loss: 0.9843 - binary_accuracy: 0.5286 - val_loss: 0.8373 - val_binary_accuracy: 0.5000\n",
            "Epoch 30/500\n",
            "39/39 [==============================] - 3s 69ms/step - loss: 0.7521 - binary_accuracy: 0.4992 - val_loss: 0.7101 - val_binary_accuracy: 0.4962\n",
            "Epoch 31/500\n",
            "39/39 [==============================] - 3s 67ms/step - loss: 0.7039 - binary_accuracy: 0.4992 - val_loss: 0.6962 - val_binary_accuracy: 0.4962\n",
            "Epoch 32/500\n",
            "39/39 [==============================] - 3s 69ms/step - loss: 0.6951 - binary_accuracy: 0.4992 - val_loss: 0.6942 - val_binary_accuracy: 0.4962\n",
            "Epoch 33/500\n",
            "39/39 [==============================] - 3s 69ms/step - loss: 0.6944 - binary_accuracy: 0.4992 - val_loss: 0.6932 - val_binary_accuracy: 0.4962\n",
            "Epoch 34/500\n",
            "39/39 [==============================] - 3s 68ms/step - loss: 0.6934 - binary_accuracy: 0.4992 - val_loss: 0.6932 - val_binary_accuracy: 0.4962\n",
            "Epoch 35/500\n",
            "39/39 [==============================] - 3s 67ms/step - loss: 0.6934 - binary_accuracy: 0.4992 - val_loss: 0.6932 - val_binary_accuracy: 0.4962\n",
            "Epoch 36/500\n",
            "39/39 [==============================] - 3s 65ms/step - loss: 0.6935 - binary_accuracy: 0.4992 - val_loss: 0.6932 - val_binary_accuracy: 0.4962\n",
            "Epoch 37/500\n",
            "39/39 [==============================] - 3s 69ms/step - loss: 0.6935 - binary_accuracy: 0.4992 - val_loss: 0.6932 - val_binary_accuracy: 0.4962\n",
            "Epoch 38/500\n",
            "39/39 [==============================] - 3s 72ms/step - loss: 0.6933 - binary_accuracy: 0.4992 - val_loss: 0.6932 - val_binary_accuracy: 0.4962\n",
            "Epoch 39/500\n",
            "39/39 [==============================] - 3s 69ms/step - loss: 0.6940 - binary_accuracy: 0.4534 - val_loss: 0.6931 - val_binary_accuracy: 0.5038\n",
            "Epoch 40/500\n",
            "39/39 [==============================] - 3s 68ms/step - loss: 0.6935 - binary_accuracy: 0.5057 - val_loss: 0.6932 - val_binary_accuracy: 0.4962\n",
            "Epoch 41/500\n",
            "39/39 [==============================] - 3s 71ms/step - loss: 0.6936 - binary_accuracy: 0.4975 - val_loss: 0.6932 - val_binary_accuracy: 0.5038\n",
            "Epoch 42/500\n",
            "39/39 [==============================] - 3s 71ms/step - loss: 0.6933 - binary_accuracy: 0.4910 - val_loss: 0.6931 - val_binary_accuracy: 0.4923\n",
            "Epoch 43/500\n",
            "39/39 [==============================] - 3s 69ms/step - loss: 0.6935 - binary_accuracy: 0.4992 - val_loss: 0.6932 - val_binary_accuracy: 0.4962\n"
          ]
        }
      ]
    },
    {
      "cell_type": "code",
      "source": [
        "model.summary()"
      ],
      "metadata": {
        "colab": {
          "base_uri": "https://localhost:8080/"
        },
        "id": "SVxtwh4nhVzy",
        "outputId": "f4a82f12-bf5c-4a17-d1c1-39298d7554ee"
      },
      "execution_count": 7,
      "outputs": [
        {
          "output_type": "stream",
          "name": "stdout",
          "text": [
            "Model: \"sequential\"\n",
            "_________________________________________________________________\n",
            " Layer (type)                Output Shape              Param #   \n",
            "=================================================================\n",
            " reshape (Reshape)           (None, 67500)             0         \n",
            "                                                                 \n",
            " dense (Dense)               (None, 350)               23625350  \n",
            "                                                                 \n",
            " dense_1 (Dense)             (None, 50)                17550     \n",
            "                                                                 \n",
            " dense_2 (Dense)             (None, 1)                 51        \n",
            "                                                                 \n",
            "=================================================================\n",
            "Total params: 23642951 (90.19 MB)\n",
            "Trainable params: 23642951 (90.19 MB)\n",
            "Non-trainable params: 0 (0.00 Byte)\n",
            "_________________________________________________________________\n"
          ]
        }
      ]
    },
    {
      "cell_type": "code",
      "source": [],
      "metadata": {
        "id": "3uJDTKnIxLeU"
      },
      "execution_count": null,
      "outputs": []
    }
  ]
}