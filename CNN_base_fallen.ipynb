{
  "nbformat": 4,
  "nbformat_minor": 0,
  "metadata": {
    "colab": {
      "provenance": [],
      "machine_shape": "hm",
      "gpuType": "T4",
      "authorship_tag": "ABX9TyOnStk+eAwl/4+XDklFBY8J",
      "include_colab_link": true
    },
    "kernelspec": {
      "name": "python3",
      "display_name": "Python 3"
    },
    "language_info": {
      "name": "python"
    },
    "accelerator": "GPU"
  },
  "cells": [
    {
      "cell_type": "markdown",
      "metadata": {
        "id": "view-in-github",
        "colab_type": "text"
      },
      "source": [
        "<a href=\"https://colab.research.google.com/github/LordHandLee/HonCSC499_detect_falls_soccer/blob/main/CNN_base_fallen.ipynb\" target=\"_parent\"><img src=\"https://colab.research.google.com/assets/colab-badge.svg\" alt=\"Open In Colab\"/></a>"
      ]
    },
    {
      "cell_type": "code",
      "execution_count": 1,
      "metadata": {
        "id": "xWZjHkFQyOKi"
      },
      "outputs": [],
      "source": [
        "from google.colab import drive\n",
        "import numpy as np\n",
        "import tensorflow as tf\n",
        "from tensorflow import keras\n",
        "import glob\n",
        "\n",
        "import matplotlib.pyplot as plt\n",
        "import cv2\n",
        "from skimage import data,io\n",
        "import matplotlib.image as mpimg\n",
        "\n",
        "from tensorflow.keras.models import Sequential\n",
        "from tensorflow.keras.layers import Dense, Conv2D, MaxPooling2D, Flatten\n",
        "from tensorflow.keras.layers import Reshape\n",
        "from tensorflow.keras.preprocessing.image import ImageDataGenerator\n",
        "from tensorflow.keras.callbacks import EarlyStopping\n",
        "from tensorflow.keras.models import load_model\n",
        "from tensorflow.keras.layers.experimental import preprocessing\n",
        "#from autokeras.utils import data_utils\n",
        "\n",
        "from sklearn.model_selection import train_test_split\n",
        "import pathlib"
      ]
    },
    {
      "cell_type": "code",
      "source": [
        "drive.mount(\"/content/drive\", force_remount=True)"
      ],
      "metadata": {
        "colab": {
          "base_uri": "https://localhost:8080/"
        },
        "id": "I6d54Qvl2Fd4",
        "outputId": "25aa0375-655e-4f91-eb0c-b1f76cacd275"
      },
      "execution_count": 2,
      "outputs": [
        {
          "output_type": "stream",
          "name": "stdout",
          "text": [
            "Mounted at /content/drive\n"
          ]
        }
      ]
    },
    {
      "cell_type": "code",
      "source": [
        "data_dir = \"/content/drive/MyDrive/honor_thesis/image_depo/\"\n",
        "# data_dir = pathlib.Path(data_dir).with_suffix('')\n",
        "# for i in data_dir.glob(\"*\"):\n",
        "#   print(i)\n",
        "datagen = ImageDataGenerator(rescale=1/255.0, validation_split=0.3)\n",
        "width = 150\n",
        "height = 150\n",
        "trainDatagen = datagen.flow_from_directory(directory=data_dir, target_size=(width, height),\n",
        "                                           class_mode='binary',\n",
        "                                           batch_size=16,\n",
        "                                           subset='training')\n",
        "valDatagen = datagen.flow_from_directory(directory=data_dir, target_size=(width, height),\n",
        "                                           class_mode='binary',\n",
        "                                           batch_size=16,\n",
        "                                           subset='validation')"
      ],
      "metadata": {
        "colab": {
          "base_uri": "https://localhost:8080/"
        },
        "id": "HFqYcObe2mX_",
        "outputId": "c7238b15-547c-4000-87e1-88e7c07302bf"
      },
      "execution_count": 3,
      "outputs": [
        {
          "output_type": "stream",
          "name": "stdout",
          "text": [
            "Found 611 images belonging to 2 classes.\n",
            "Found 260 images belonging to 2 classes.\n"
          ]
        }
      ]
    },
    {
      "cell_type": "code",
      "source": [
        "early_stop = EarlyStopping(monitor='val_loss', min_delta=0.00001, patience=30)\n"
      ],
      "metadata": {
        "id": "JsS2P03A2qDO"
      },
      "execution_count": 4,
      "outputs": []
    },
    {
      "cell_type": "code",
      "source": [],
      "metadata": {
        "id": "t9ecIpnR2uLY"
      },
      "execution_count": null,
      "outputs": []
    },
    {
      "cell_type": "code",
      "source": [
        "model = Sequential()\n",
        "model.add(Conv2D(32, (3, 3), activation='relu', input_shape=(150, 150, 3)))\n",
        "model.add(MaxPooling2D((2, 2)))\n",
        "model.add(Conv2D(64, (3, 3), activation='relu'))\n",
        "model.add(MaxPooling2D((2, 2)))\n",
        "model.add(Conv2D(64, (3, 3), activation='relu'))\n",
        "\n",
        "model.add(Flatten())\n",
        "model.add(Dense(64, activation='relu'))\n",
        "model.add(Dense(1, activation='sigmoid'))\n",
        "\n"
      ],
      "metadata": {
        "id": "H8z3dr5O2H6r"
      },
      "execution_count": 5,
      "outputs": []
    },
    {
      "cell_type": "code",
      "source": [
        "model.compile(loss=keras.losses.BinaryCrossentropy(from_logits=False), optimizer=keras.optimizers.Adam(learning_rate=0.01), metrics=[keras.metrics.BinaryAccuracy()])\n",
        "\n",
        "history = model.fit(trainDatagen, steps_per_epoch = len(trainDatagen),\n",
        "                    epochs=500, validation_data = valDatagen,\n",
        "                    validation_steps = len(valDatagen),\n",
        "                    callbacks=[early_stop])"
      ],
      "metadata": {
        "colab": {
          "base_uri": "https://localhost:8080/"
        },
        "id": "Odu5kWlq2wrU",
        "outputId": "88862d0c-62a5-4907-d44b-86b1f152cf86"
      },
      "execution_count": 6,
      "outputs": [
        {
          "output_type": "stream",
          "name": "stdout",
          "text": [
            "Epoch 1/500\n",
            "39/39 [==============================] - 361s 9s/step - loss: 3.4990 - binary_accuracy: 0.5565 - val_loss: 0.6776 - val_binary_accuracy: 0.5692\n",
            "Epoch 2/500\n",
            "39/39 [==============================] - 3s 75ms/step - loss: 0.6600 - binary_accuracy: 0.5974 - val_loss: 0.6557 - val_binary_accuracy: 0.6308\n",
            "Epoch 3/500\n",
            "39/39 [==============================] - 3s 76ms/step - loss: 0.6599 - binary_accuracy: 0.5941 - val_loss: 0.6790 - val_binary_accuracy: 0.5269\n",
            "Epoch 4/500\n",
            "39/39 [==============================] - 3s 78ms/step - loss: 0.6006 - binary_accuracy: 0.6563 - val_loss: 0.8067 - val_binary_accuracy: 0.5962\n",
            "Epoch 5/500\n",
            "39/39 [==============================] - 3s 75ms/step - loss: 0.6201 - binary_accuracy: 0.6432 - val_loss: 0.6281 - val_binary_accuracy: 0.7154\n",
            "Epoch 6/500\n",
            "39/39 [==============================] - 3s 73ms/step - loss: 0.5657 - binary_accuracy: 0.7152 - val_loss: 0.6302 - val_binary_accuracy: 0.7462\n",
            "Epoch 7/500\n",
            "39/39 [==============================] - 3s 78ms/step - loss: 0.6457 - binary_accuracy: 0.6563 - val_loss: 1.0362 - val_binary_accuracy: 0.5385\n",
            "Epoch 8/500\n",
            "39/39 [==============================] - 3s 79ms/step - loss: 0.7297 - binary_accuracy: 0.5417 - val_loss: 0.7033 - val_binary_accuracy: 0.5000\n",
            "Epoch 9/500\n",
            "39/39 [==============================] - 3s 76ms/step - loss: 0.6975 - binary_accuracy: 0.5008 - val_loss: 0.6937 - val_binary_accuracy: 0.5000\n",
            "Epoch 10/500\n",
            "39/39 [==============================] - 3s 72ms/step - loss: 0.6937 - binary_accuracy: 0.5008 - val_loss: 0.6935 - val_binary_accuracy: 0.5000\n",
            "Epoch 11/500\n",
            "39/39 [==============================] - 3s 73ms/step - loss: 0.6943 - binary_accuracy: 0.4992 - val_loss: 0.6935 - val_binary_accuracy: 0.5000\n",
            "Epoch 12/500\n",
            "39/39 [==============================] - 3s 77ms/step - loss: 0.6943 - binary_accuracy: 0.4845 - val_loss: 0.6932 - val_binary_accuracy: 0.5000\n",
            "Epoch 13/500\n",
            "39/39 [==============================] - 3s 74ms/step - loss: 0.6934 - binary_accuracy: 0.4992 - val_loss: 0.6932 - val_binary_accuracy: 0.5000\n",
            "Epoch 14/500\n",
            "39/39 [==============================] - 3s 77ms/step - loss: 0.6934 - binary_accuracy: 0.4894 - val_loss: 0.6932 - val_binary_accuracy: 0.5000\n",
            "Epoch 15/500\n",
            "39/39 [==============================] - 3s 76ms/step - loss: 0.6935 - binary_accuracy: 0.5008 - val_loss: 0.6932 - val_binary_accuracy: 0.5000\n",
            "Epoch 16/500\n",
            "39/39 [==============================] - 3s 80ms/step - loss: 0.6936 - binary_accuracy: 0.4795 - val_loss: 0.6932 - val_binary_accuracy: 0.5000\n",
            "Epoch 17/500\n",
            "39/39 [==============================] - 3s 74ms/step - loss: 0.6937 - binary_accuracy: 0.4943 - val_loss: 0.6932 - val_binary_accuracy: 0.5000\n",
            "Epoch 18/500\n",
            "39/39 [==============================] - 3s 76ms/step - loss: 0.6934 - binary_accuracy: 0.4697 - val_loss: 0.6932 - val_binary_accuracy: 0.5000\n",
            "Epoch 19/500\n",
            "39/39 [==============================] - 3s 76ms/step - loss: 0.6937 - binary_accuracy: 0.4992 - val_loss: 0.6932 - val_binary_accuracy: 0.5000\n",
            "Epoch 20/500\n",
            "39/39 [==============================] - 3s 80ms/step - loss: 0.6934 - binary_accuracy: 0.4746 - val_loss: 0.6932 - val_binary_accuracy: 0.5000\n",
            "Epoch 21/500\n",
            "39/39 [==============================] - 3s 74ms/step - loss: 0.6942 - binary_accuracy: 0.4992 - val_loss: 0.6932 - val_binary_accuracy: 0.5000\n",
            "Epoch 22/500\n",
            "39/39 [==============================] - 3s 73ms/step - loss: 0.6937 - binary_accuracy: 0.4975 - val_loss: 0.6932 - val_binary_accuracy: 0.5000\n",
            "Epoch 23/500\n",
            "39/39 [==============================] - 3s 77ms/step - loss: 0.6939 - binary_accuracy: 0.4828 - val_loss: 0.6932 - val_binary_accuracy: 0.5000\n",
            "Epoch 24/500\n",
            "39/39 [==============================] - 3s 80ms/step - loss: 0.6938 - binary_accuracy: 0.4877 - val_loss: 0.6932 - val_binary_accuracy: 0.5000\n",
            "Epoch 25/500\n",
            "39/39 [==============================] - 3s 74ms/step - loss: 0.6936 - binary_accuracy: 0.4926 - val_loss: 0.6933 - val_binary_accuracy: 0.5000\n",
            "Epoch 26/500\n",
            "39/39 [==============================] - 3s 74ms/step - loss: 0.6934 - binary_accuracy: 0.5008 - val_loss: 0.6932 - val_binary_accuracy: 0.5000\n",
            "Epoch 27/500\n",
            "39/39 [==============================] - 3s 75ms/step - loss: 0.6943 - binary_accuracy: 0.4910 - val_loss: 0.6932 - val_binary_accuracy: 0.5000\n",
            "Epoch 28/500\n",
            "39/39 [==============================] - 3s 80ms/step - loss: 0.6936 - binary_accuracy: 0.4975 - val_loss: 0.6931 - val_binary_accuracy: 0.5000\n",
            "Epoch 29/500\n",
            "39/39 [==============================] - 3s 75ms/step - loss: 0.6935 - binary_accuracy: 0.4632 - val_loss: 0.6931 - val_binary_accuracy: 0.5000\n",
            "Epoch 30/500\n",
            "39/39 [==============================] - 3s 76ms/step - loss: 0.6949 - binary_accuracy: 0.5008 - val_loss: 0.6931 - val_binary_accuracy: 0.5000\n",
            "Epoch 31/500\n",
            "39/39 [==============================] - 3s 77ms/step - loss: 0.6935 - binary_accuracy: 0.4730 - val_loss: 0.6933 - val_binary_accuracy: 0.5000\n",
            "Epoch 32/500\n",
            "39/39 [==============================] - 3s 79ms/step - loss: 0.6936 - binary_accuracy: 0.4992 - val_loss: 0.6932 - val_binary_accuracy: 0.5000\n",
            "Epoch 33/500\n",
            "39/39 [==============================] - 3s 74ms/step - loss: 0.6936 - binary_accuracy: 0.4779 - val_loss: 0.6932 - val_binary_accuracy: 0.5000\n",
            "Epoch 34/500\n",
            "39/39 [==============================] - 3s 76ms/step - loss: 0.6941 - binary_accuracy: 0.4763 - val_loss: 0.6933 - val_binary_accuracy: 0.5000\n",
            "Epoch 35/500\n",
            "39/39 [==============================] - 3s 75ms/step - loss: 0.6931 - binary_accuracy: 0.5090 - val_loss: 0.6932 - val_binary_accuracy: 0.5000\n"
          ]
        }
      ]
    },
    {
      "cell_type": "code",
      "source": [
        "model.summary()"
      ],
      "metadata": {
        "colab": {
          "base_uri": "https://localhost:8080/"
        },
        "id": "ArVvqqGm4H95",
        "outputId": "7a1f62dc-575f-432f-84cf-5a39d4f4b1a7"
      },
      "execution_count": 7,
      "outputs": [
        {
          "output_type": "stream",
          "name": "stdout",
          "text": [
            "Model: \"sequential\"\n",
            "_________________________________________________________________\n",
            " Layer (type)                Output Shape              Param #   \n",
            "=================================================================\n",
            " conv2d (Conv2D)             (None, 148, 148, 32)      896       \n",
            "                                                                 \n",
            " max_pooling2d (MaxPooling2  (None, 74, 74, 32)        0         \n",
            " D)                                                              \n",
            "                                                                 \n",
            " conv2d_1 (Conv2D)           (None, 72, 72, 64)        18496     \n",
            "                                                                 \n",
            " max_pooling2d_1 (MaxPoolin  (None, 36, 36, 64)        0         \n",
            " g2D)                                                            \n",
            "                                                                 \n",
            " conv2d_2 (Conv2D)           (None, 34, 34, 64)        36928     \n",
            "                                                                 \n",
            " flatten (Flatten)           (None, 73984)             0         \n",
            "                                                                 \n",
            " dense (Dense)               (None, 64)                4735040   \n",
            "                                                                 \n",
            " dense_1 (Dense)             (None, 1)                 65        \n",
            "                                                                 \n",
            "=================================================================\n",
            "Total params: 4791425 (18.28 MB)\n",
            "Trainable params: 4791425 (18.28 MB)\n",
            "Non-trainable params: 0 (0.00 Byte)\n",
            "_________________________________________________________________\n"
          ]
        }
      ]
    },
    {
      "cell_type": "code",
      "source": [],
      "metadata": {
        "id": "0PYA15GC6KH8"
      },
      "execution_count": null,
      "outputs": []
    }
  ]
}